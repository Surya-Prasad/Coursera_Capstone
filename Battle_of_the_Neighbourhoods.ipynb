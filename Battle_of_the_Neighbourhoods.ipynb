{
 "cells": [
  {
   "cell_type": "markdown",
   "metadata": {},
   "source": [
    "# Battle of the Neighbourhoods\n",
    "#### Of which Jon Snow knows nothing of.\n",
    "<br>"
   ]
  },
  {
   "cell_type": "markdown",
   "metadata": {},
   "source": [
    "## Week1: Importing Libraries"
   ]
  },
  {
   "cell_type": "code",
   "execution_count": 21,
   "metadata": {
    "tags": []
   },
   "outputs": [
    {
     "output_type": "stream",
     "name": "stdout",
     "text": "Hello Capstone Project Course!\n"
    }
   ],
   "source": [
    "import numpy as np\n",
    "import pandas as pd\n",
    "print('Hello Capstone Project Course!')"
   ]
  },
  {
   "cell_type": "markdown",
   "metadata": {},
   "source": [
    "## Week 2: Scraping data and creating a DataFrame"
   ]
  },
  {
   "cell_type": "code",
   "execution_count": 22,
   "metadata": {
    "tags": []
   },
   "outputs": [],
   "source": [
    "from urllib import request\n",
    "from bs4 import BeautifulSoup\n",
    "url = 'https://en.wikipedia.org/wiki/List_of_postal_codes_of_Canada:_M'\n",
    "page = request.urlopen(url)\n",
    "soup = BeautifulSoup(page)\n",
    "# print(soup.prettify())"
   ]
  },
  {
   "cell_type": "code",
   "execution_count": 23,
   "metadata": {},
   "outputs": [],
   "source": [
    "table = soup.find('table', class_ = 'wikitable sortable')\n",
    "# table"
   ]
  },
  {
   "cell_type": "code",
   "execution_count": 24,
   "metadata": {
    "tags": []
   },
   "outputs": [
    {
     "output_type": "stream",
     "name": "stdout",
     "text": "['M1A\\n', 'M2A\\n', 'M3A\\n', 'M4A\\n', 'M5A\\n', 'M6A\\n', 'M7A\\n', 'M8A\\n', 'M9A\\n', 'M1B\\n', 'M2B\\n', 'M3B\\n', 'M4B\\n', 'M5B\\n', 'M6B\\n', 'M7B\\n', 'M8B\\n', 'M9B\\n', 'M1C\\n', 'M2C\\n', 'M3C\\n', 'M4C\\n', 'M5C\\n', 'M6C\\n', 'M7C\\n', 'M8C\\n', 'M9C\\n', 'M1E\\n', 'M2E\\n', 'M3E\\n', 'M4E\\n', 'M5E\\n', 'M6E\\n', 'M7E\\n', 'M8E\\n', 'M9E\\n', 'M1G\\n', 'M2G\\n', 'M3G\\n', 'M4G\\n', 'M5G\\n', 'M6G\\n', 'M7G\\n', 'M8G\\n', 'M9G\\n', 'M1H\\n', 'M2H\\n', 'M3H\\n', 'M4H\\n', 'M5H\\n', 'M6H\\n', 'M7H\\n', 'M8H\\n', 'M9H\\n', 'M1J\\n', 'M2J\\n', 'M3J\\n', 'M4J\\n', 'M5J\\n', 'M6J\\n', 'M7J\\n', 'M8J\\n', 'M9J\\n', 'M1K\\n', 'M2K\\n', 'M3K\\n', 'M4K\\n', 'M5K\\n', 'M6K\\n', 'M7K\\n', 'M8K\\n', 'M9K\\n', 'M1L\\n', 'M2L\\n', 'M3L\\n', 'M4L\\n', 'M5L\\n', 'M6L\\n', 'M7L\\n', 'M8L\\n', 'M9L\\n', 'M1M\\n', 'M2M\\n', 'M3M\\n', 'M4M\\n', 'M5M\\n', 'M6M\\n', 'M7M\\n', 'M8M\\n', 'M9M\\n', 'M1N\\n', 'M2N\\n', 'M3N\\n', 'M4N\\n', 'M5N\\n', 'M6N\\n', 'M7N\\n', 'M8N\\n', 'M9N\\n', 'M1P\\n', 'M2P\\n', 'M3P\\n', 'M4P\\n', 'M5P\\n', 'M6P\\n', 'M7P\\n', 'M8P\\n', 'M9P\\n', 'M1R\\n', 'M2R\\n', 'M3R\\n', 'M4R\\n', 'M5R\\n', 'M6R\\n', 'M7R\\n', 'M8R\\n', 'M9R\\n', 'M1S\\n', 'M2S\\n', 'M3S\\n', 'M4S\\n', 'M5S\\n', 'M6S\\n', 'M7S\\n', 'M8S\\n', 'M9S\\n', 'M1T\\n', 'M2T\\n', 'M3T\\n', 'M4T\\n', 'M5T\\n', 'M6T\\n', 'M7T\\n', 'M8T\\n', 'M9T\\n', 'M1V\\n', 'M2V\\n', 'M3V\\n', 'M4V\\n', 'M5V\\n', 'M6V\\n', 'M7V\\n', 'M8V\\n', 'M9V\\n', 'M1W\\n', 'M2W\\n', 'M3W\\n', 'M4W\\n', 'M5W\\n', 'M6W\\n', 'M7W\\n', 'M8W\\n', 'M9W\\n', 'M1X\\n', 'M2X\\n', 'M3X\\n', 'M4X\\n', 'M5X\\n', 'M6X\\n', 'M7X\\n', 'M8X\\n', 'M9X\\n', 'M1Y\\n', 'M2Y\\n', 'M3Y\\n', 'M4Y\\n', 'M5Y\\n', 'M6Y\\n', 'M7Y\\n', 'M8Y\\n', 'M9Y\\n', 'M1Z\\n', 'M2Z\\n', 'M3Z\\n', 'M4Z\\n', 'M5Z\\n', 'M6Z\\n', 'M7Z\\n', 'M8Z\\n', 'M9Z\\n']\n['Not assigned\\n', 'Not assigned\\n', 'North York\\n', 'North York\\n', 'Downtown Toronto\\n', 'North York\\n', 'Downtown Toronto\\n', 'Not assigned\\n', 'Etobicoke\\n', 'Scarborough\\n', 'Not assigned\\n', 'North York\\n', 'East York\\n', 'Downtown Toronto\\n', 'North York\\n', 'Not assigned\\n', 'Not assigned\\n', 'Etobicoke\\n', 'Scarborough\\n', 'Not assigned\\n', 'North York\\n', 'East York\\n', 'Downtown Toronto\\n', 'York\\n', 'Not assigned\\n', 'Not assigned\\n', 'Etobicoke\\n', 'Scarborough\\n', 'Not assigned\\n', 'Not assigned\\n', 'East Toronto\\n', 'Downtown Toronto\\n', 'York\\n', 'Not assigned\\n', 'Not assigned\\n', 'Not assigned\\n', 'Scarborough\\n', 'Not assigned\\n', 'Not assigned\\n', 'East York\\n', 'Downtown Toronto\\n', 'Downtown Toronto\\n', 'Not assigned\\n', 'Not assigned\\n', 'Not assigned\\n', 'Scarborough\\n', 'North York\\n', 'North York\\n', 'East York\\n', 'Downtown Toronto\\n', 'West Toronto\\n', 'Not assigned\\n', 'Not assigned\\n', 'Not assigned\\n', 'Scarborough\\n', 'North York\\n', 'North York\\n', 'East York\\n', 'Downtown Toronto\\n', 'West Toronto\\n', 'Not assigned\\n', 'Not assigned\\n', 'Not assigned\\n', 'Scarborough\\n', 'North York\\n', 'North York\\n', 'East Toronto\\n', 'Downtown Toronto\\n', 'West Toronto\\n', 'Not assigned\\n', 'Not assigned\\n', 'Not assigned\\n', 'Scarborough\\n', 'North York\\n', 'North York\\n', 'East Toronto\\n', 'Downtown Toronto\\n', 'North York\\n', 'Not assigned\\n', 'Not assigned\\n', 'North York\\n', 'Scarborough\\n', 'North York\\n', 'North York\\n', 'East Toronto\\n', 'North York\\n', 'York\\n', 'Not assigned\\n', 'Not assigned\\n', 'North York\\n', 'Scarborough\\n', 'North York\\n', 'North York\\n', 'Central Toronto\\n', 'Central Toronto\\n', 'York\\n', 'Not assigned\\n', 'Not assigned\\n', 'York\\n', 'Scarborough\\n', 'North York\\n', 'Not assigned\\n', 'Central Toronto\\n', 'Central Toronto\\n', 'West Toronto\\n', 'Not assigned\\n', 'Not assigned\\n', 'Etobicoke\\n', 'Scarborough\\n', 'North York\\n', 'Not assigned\\n', 'Central Toronto\\n', 'Central Toronto\\n', 'West Toronto\\n', 'Mississauga\\n', 'Not assigned\\n', 'Etobicoke\\n', 'Scarborough\\n', 'Not assigned\\n', 'Not assigned\\n', 'Central Toronto\\n', 'Downtown Toronto\\n', 'West Toronto\\n', 'Not assigned\\n', 'Not assigned\\n', 'Not assigned\\n', 'Scarborough\\n', 'Not assigned\\n', 'Not assigned\\n', 'Central Toronto\\n', 'Downtown Toronto\\n', 'Not assigned\\n', 'Not assigned\\n', 'Not assigned\\n', 'Not assigned\\n', 'Scarborough\\n', 'Not assigned\\n', 'Not assigned\\n', 'Central Toronto\\n', 'Downtown Toronto\\n', 'Not assigned\\n', 'Not assigned\\n', 'Etobicoke\\n', 'Etobicoke\\n', 'Scarborough\\n', 'Not assigned\\n', 'Not assigned\\n', 'Downtown Toronto\\n', 'Downtown Toronto\\n', 'Not assigned\\n', 'Not assigned\\n', 'Etobicoke\\n', 'Etobicoke\\n', 'Scarborough\\n', 'Not assigned\\n', 'Not assigned\\n', 'Downtown Toronto\\n', 'Downtown Toronto\\n', 'Not assigned\\n', 'Not assigned\\n', 'Etobicoke\\n', 'Not assigned\\n', 'Not assigned\\n', 'Not assigned\\n', 'Not assigned\\n', 'Downtown Toronto\\n', 'Not assigned\\n', 'Not assigned\\n', 'East Toronto\\n', 'Etobicoke\\n', 'Not assigned\\n', 'Not assigned\\n', 'Not assigned\\n', 'Not assigned\\n', 'Not assigned\\n', 'Not assigned\\n', 'Not assigned\\n', 'Not assigned\\n', 'Etobicoke\\n', 'Not assigned\\n']\n['Not assigned\\n', 'Not assigned\\n', 'Parkwoods\\n', 'Victoria Village\\n', 'Regent Park, Harbourfront\\n', 'Lawrence Manor, Lawrence Heights\\n', \"Queen's Park, Ontario Provincial Government\\n\", 'Not assigned\\n', 'Islington Avenue, Humber Valley Village\\n', 'Malvern, Rouge\\n', 'Not assigned\\n', 'Don Mills\\n', 'Parkview Hill, Woodbine Gardens\\n', 'Garden District, Ryerson\\n', 'Glencairn\\n', 'Not assigned\\n', 'Not assigned\\n', 'West Deane Park, Princess Gardens, Martin Grove, Islington, Cloverdale\\n', 'Rouge Hill, Port Union, Highland Creek\\n', 'Not assigned\\n', 'Don Mills\\n', 'Woodbine Heights\\n', 'St. James Town\\n', 'Humewood-Cedarvale\\n', 'Not assigned\\n', 'Not assigned\\n', 'Eringate, Bloordale Gardens, Old Burnhamthorpe, Markland Wood\\n', 'Guildwood, Morningside, West Hill\\n', 'Not assigned\\n', 'Not assigned\\n', 'The Beaches\\n', 'Berczy Park\\n', 'Caledonia-Fairbanks\\n', 'Not assigned\\n', 'Not assigned\\n', 'Not assigned\\n', 'Woburn\\n', 'Not assigned\\n', 'Not assigned\\n', 'Leaside\\n', 'Central Bay Street\\n', 'Christie\\n', 'Not assigned\\n', 'Not assigned\\n', 'Not assigned\\n', 'Cedarbrae\\n', 'Hillcrest Village\\n', 'Bathurst Manor, Wilson Heights, Downsview North\\n', 'Thorncliffe Park\\n', 'Richmond, Adelaide, King\\n', 'Dufferin, Dovercourt Village\\n', 'Not assigned\\n', 'Not assigned\\n', 'Not assigned\\n', 'Scarborough Village\\n', 'Fairview, Henry Farm, Oriole\\n', 'Northwood Park, York University\\n', 'East Toronto, Broadview North (Old East York)\\n', 'Harbourfront East, Union Station, Toronto Islands\\n', 'Little Portugal, Trinity\\n', 'Not assigned\\n', 'Not assigned\\n', 'Not assigned\\n', 'Kennedy Park, Ionview, East Birchmount Park\\n', 'Bayview Village\\n', 'Downsview\\n', 'The Danforth West, Riverdale\\n', 'Toronto Dominion Centre, Design Exchange\\n', 'Brockton, Parkdale Village, Exhibition Place\\n', 'Not assigned\\n', 'Not assigned\\n', 'Not assigned\\n', 'Golden Mile, Clairlea, Oakridge\\n', 'York Mills, Silver Hills\\n', 'Downsview\\n', 'India Bazaar, The Beaches West\\n', 'Commerce Court, Victoria Hotel\\n', 'North Park, Maple Leaf Park, Upwood Park\\n', 'Not assigned\\n', 'Not assigned\\n', 'Humber Summit\\n', 'Cliffside, Cliffcrest, Scarborough Village West\\n', 'Willowdale, Newtonbrook\\n', 'Downsview\\n', 'Studio District\\n', 'Bedford Park, Lawrence Manor East\\n', 'Del Ray, Mount Dennis, Keelsdale and Silverthorn\\n', 'Not assigned\\n', 'Not assigned\\n', 'Humberlea, Emery\\n', 'Birch Cliff, Cliffside West\\n', 'Willowdale, Willowdale East\\n', 'Downsview\\n', 'Lawrence Park\\n', 'Roselawn\\n', 'Runnymede, The Junction North\\n', 'Not assigned\\n', 'Not assigned\\n', 'Weston\\n', 'Dorset Park, Wexford Heights, Scarborough Town Centre\\n', 'York Mills West\\n', 'Not assigned\\n', 'Davisville North\\n', 'Forest Hill North & West, Forest Hill Road Park\\n', 'High Park, The Junction South\\n', 'Not assigned\\n', 'Not assigned\\n', 'Westmount\\n', 'Wexford, Maryvale\\n', 'Willowdale, Willowdale West\\n', 'Not assigned\\n', 'North Toronto West,  Lawrence Park\\n', 'The Annex, North Midtown, Yorkville\\n', 'Parkdale, Roncesvalles\\n', 'Canada Post Gateway Processing Centre\\n', 'Not assigned\\n', 'Kingsview Village, St. Phillips, Martin Grove Gardens, Richview Gardens\\n', 'Agincourt\\n', 'Not assigned\\n', 'Not assigned\\n', 'Davisville\\n', 'University of Toronto, Harbord\\n', 'Runnymede, Swansea\\n', 'Not assigned\\n', 'Not assigned\\n', 'Not assigned\\n', \"Clarks Corners, Tam O'Shanter, Sullivan\\n\", 'Not assigned\\n', 'Not assigned\\n', 'Moore Park, Summerhill East\\n', 'Kensington Market, Chinatown, Grange Park\\n', 'Not assigned\\n', 'Not assigned\\n', 'Not assigned\\n', 'Not assigned\\n', \"Milliken, Agincourt North, Steeles East, L'Amoreaux East\\n\", 'Not assigned\\n', 'Not assigned\\n', 'Summerhill West, Rathnelly, South Hill, Forest Hill SE, Deer Park\\n', 'CN Tower, King and Spadina, Railway Lands, Harbourfront West, Bathurst Quay, South Niagara, Island airport\\n', 'Not assigned\\n', 'Not assigned\\n', 'New Toronto, Mimico South, Humber Bay Shores\\n', 'South Steeles, Silverstone, Humbergate, Jamestown, Mount Olive, Beaumond Heights, Thistletown, Albion Gardens\\n', \"Steeles West, L'Amoreaux West\\n\", 'Not assigned\\n', 'Not assigned\\n', 'Rosedale\\n', 'Stn A PO Boxes\\n', 'Not assigned\\n', 'Not assigned\\n', 'Alderwood, Long Branch\\n', 'Northwest, West Humber - Clairville\\n', 'Upper Rouge\\n', 'Not assigned\\n', 'Not assigned\\n', 'St. James Town, Cabbagetown\\n', 'First Canadian Place, Underground city\\n', 'Not assigned\\n', 'Not assigned\\n', 'The Kingsway, Montgomery Road, Old Mill North\\n', 'Not assigned\\n', 'Not assigned\\n', 'Not assigned\\n', 'Not assigned\\n', 'Church and Wellesley\\n', 'Not assigned\\n', 'Not assigned\\n', 'Business reply mail Processing Centre, South Central Letter Processing Plant Toronto\\n', \"Old Mill South, King's Mill Park, Sunnylea, Humber Bay, Mimico NE, The Queensway East, Royal York South East, Kingsway Park South East\\n\", 'Not assigned\\n', 'Not assigned\\n', 'Not assigned\\n', 'Not assigned\\n', 'Not assigned\\n', 'Not assigned\\n', 'Not assigned\\n', 'Not assigned\\n', 'Mimico NW, The Queensway West, South of Bloor, Kingsway Park South West, Royal York South West\\n', 'Not assigned\\n']\n"
    }
   ],
   "source": [
    "A = []\n",
    "B = []\n",
    "C = []\n",
    "\n",
    "for row in table.findAll('tr'):\n",
    "    cells=row.findAll('td')\n",
    "    if len(cells)==3:\n",
    "        A.append(cells[0].find(text=True))\n",
    "        B.append(cells[1].find(text=True))\n",
    "        C.append(cells[2].find(text=True))\n",
    "print(A)\n",
    "print(B)\n",
    "print(C)"
   ]
  },
  {
   "cell_type": "code",
   "execution_count": 27,
   "metadata": {},
   "outputs": [
    {
     "output_type": "error",
     "ename": "AttributeError",
     "evalue": "'list' object has no attribute 'T'",
     "traceback": [
      "\u001b[0;31m---------------------------------------------------------------------------\u001b[0m",
      "\u001b[0;31mAttributeError\u001b[0m                            Traceback (most recent call last)",
      "\u001b[0;32m<ipython-input-27-552a9be7c1c5>\u001b[0m in \u001b[0;36m<module>\u001b[0;34m\u001b[0m\n\u001b[0;32m----> 1\u001b[0;31m \u001b[0mX\u001b[0m \u001b[0;34m=\u001b[0m \u001b[0;34m[\u001b[0m\u001b[0mA\u001b[0m\u001b[0;34m,\u001b[0m \u001b[0mB\u001b[0m\u001b[0;34m,\u001b[0m \u001b[0mC\u001b[0m\u001b[0;34m]\u001b[0m\u001b[0;34m.\u001b[0m\u001b[0mT\u001b[0m\u001b[0;34m\u001b[0m\u001b[0;34m\u001b[0m\u001b[0m\n\u001b[0m\u001b[1;32m      2\u001b[0m \u001b[0mdf\u001b[0m \u001b[0;34m=\u001b[0m \u001b[0mpd\u001b[0m\u001b[0;34m.\u001b[0m\u001b[0mDataFrame\u001b[0m\u001b[0;34m(\u001b[0m\u001b[0mdata\u001b[0m \u001b[0;34m=\u001b[0m \u001b[0mX\u001b[0m\u001b[0;34m,\u001b[0m \u001b[0mcolumns\u001b[0m \u001b[0;34m=\u001b[0m \u001b[0;34m[\u001b[0m\u001b[0;34m'Postal Code'\u001b[0m\u001b[0;34m,\u001b[0m \u001b[0;34m'Borough'\u001b[0m\u001b[0;34m,\u001b[0m \u001b[0;34m'Neighbourhood'\u001b[0m\u001b[0;34m]\u001b[0m\u001b[0;34m)\u001b[0m\u001b[0;34m\u001b[0m\u001b[0;34m\u001b[0m\u001b[0m\n\u001b[1;32m      3\u001b[0m \u001b[0mdf\u001b[0m\u001b[0;34m.\u001b[0m\u001b[0mhead\u001b[0m\u001b[0;34m(\u001b[0m\u001b[0;34m)\u001b[0m\u001b[0;34m\u001b[0m\u001b[0;34m\u001b[0m\u001b[0m\n",
      "\u001b[0;31mAttributeError\u001b[0m: 'list' object has no attribute 'T'"
     ]
    }
   ],
   "source": [
    "X = [A, B, C]\n",
    "df = pd.DataFrame(data = X, columns = ['Postal Code', 'Borough', 'Neighbourhood'])\n",
    "df.head()"
   ]
  },
  {
   "cell_type": "code",
   "execution_count": null,
   "metadata": {},
   "outputs": [],
   "source": []
  }
 ],
 "metadata": {
  "language_info": {
   "codemirror_mode": {
    "name": "ipython",
    "version": 3
   },
   "file_extension": ".py",
   "mimetype": "text/x-python",
   "name": "python",
   "nbconvert_exporter": "python",
   "pygments_lexer": "ipython3",
   "version": "3.8.2-final"
  },
  "orig_nbformat": 2,
  "kernelspec": {
   "name": "python38264bitcharybdiscondaaa0c1dde90874a3f9787665aa6d4592d",
   "display_name": "Python 3.8.2 64-bit ('Charybdis': conda)"
  }
 },
 "nbformat": 4,
 "nbformat_minor": 2
}