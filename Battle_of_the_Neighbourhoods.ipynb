{
 "cells": [
  {
   "cell_type": "markdown",
   "metadata": {},
   "source": [
    "# Battle of the Neighbourhoods\n",
    "#### Of which Jon Snow knows nothing of.\n",
    "<br>"
   ]
  },
  {
   "cell_type": "markdown",
   "metadata": {},
   "source": [
    "## Week1: Importing Libraries"
   ]
  },
  {
   "cell_type": "code",
   "execution_count": 1,
   "metadata": {
    "tags": []
   },
   "outputs": [
    {
     "output_type": "stream",
     "name": "stdout",
     "text": "Hello Capstone Project Course!\n"
    }
   ],
   "source": [
    "import numpy as np\n",
    "import pandas as pd\n",
    "print('Hello Capstone Project Course!')"
   ]
  },
  {
   "cell_type": "markdown",
   "metadata": {},
   "source": [
    "## Week 2: Scraping data and creating a DataFrame"
   ]
  },
  {
   "cell_type": "code",
   "execution_count": 2,
   "metadata": {
    "tags": []
   },
   "outputs": [],
   "source": [
    "from urllib import request\n",
    "from bs4 import BeautifulSoup\n",
    "url = 'https://en.wikipedia.org/wiki/List_of_postal_codes_of_Canada:_M'\n",
    "page = request.urlopen(url)\n",
    "soup = BeautifulSoup(page)\n",
    "# print(soup.prettify())"
   ]
  },
  {
   "cell_type": "code",
   "execution_count": 3,
   "metadata": {},
   "outputs": [],
   "source": [
    "table = soup.find('table', class_ = 'wikitable sortable')\n",
    "# table"
   ]
  },
  {
   "cell_type": "code",
   "execution_count": 4,
   "metadata": {
    "tags": []
   },
   "outputs": [
    {
     "output_type": "stream",
     "name": "stdout",
     "text": "['M1A\\n', 'M2A\\n', 'M3A\\n', 'M4A\\n', 'M5A\\n', 'M6A\\n', 'M7A\\n', 'M8A\\n', 'M9A\\n', 'M1B\\n', 'M2B\\n', 'M3B\\n', 'M4B\\n', 'M5B\\n', 'M6B\\n', 'M7B\\n', 'M8B\\n', 'M9B\\n', 'M1C\\n', 'M2C\\n', 'M3C\\n', 'M4C\\n', 'M5C\\n', 'M6C\\n', 'M7C\\n', 'M8C\\n', 'M9C\\n', 'M1E\\n', 'M2E\\n', 'M3E\\n', 'M4E\\n', 'M5E\\n', 'M6E\\n', 'M7E\\n', 'M8E\\n', 'M9E\\n', 'M1G\\n', 'M2G\\n', 'M3G\\n', 'M4G\\n', 'M5G\\n', 'M6G\\n', 'M7G\\n', 'M8G\\n', 'M9G\\n', 'M1H\\n', 'M2H\\n', 'M3H\\n', 'M4H\\n', 'M5H\\n', 'M6H\\n', 'M7H\\n', 'M8H\\n', 'M9H\\n', 'M1J\\n', 'M2J\\n', 'M3J\\n', 'M4J\\n', 'M5J\\n', 'M6J\\n', 'M7J\\n', 'M8J\\n', 'M9J\\n', 'M1K\\n', 'M2K\\n', 'M3K\\n', 'M4K\\n', 'M5K\\n', 'M6K\\n', 'M7K\\n', 'M8K\\n', 'M9K\\n', 'M1L\\n', 'M2L\\n', 'M3L\\n', 'M4L\\n', 'M5L\\n', 'M6L\\n', 'M7L\\n', 'M8L\\n', 'M9L\\n', 'M1M\\n', 'M2M\\n', 'M3M\\n', 'M4M\\n', 'M5M\\n', 'M6M\\n', 'M7M\\n', 'M8M\\n', 'M9M\\n', 'M1N\\n', 'M2N\\n', 'M3N\\n', 'M4N\\n', 'M5N\\n', 'M6N\\n', 'M7N\\n', 'M8N\\n', 'M9N\\n', 'M1P\\n', 'M2P\\n', 'M3P\\n', 'M4P\\n', 'M5P\\n', 'M6P\\n', 'M7P\\n', 'M8P\\n', 'M9P\\n', 'M1R\\n', 'M2R\\n', 'M3R\\n', 'M4R\\n', 'M5R\\n', 'M6R\\n', 'M7R\\n', 'M8R\\n', 'M9R\\n', 'M1S\\n', 'M2S\\n', 'M3S\\n', 'M4S\\n', 'M5S\\n', 'M6S\\n', 'M7S\\n', 'M8S\\n', 'M9S\\n', 'M1T\\n', 'M2T\\n', 'M3T\\n', 'M4T\\n', 'M5T\\n', 'M6T\\n', 'M7T\\n', 'M8T\\n', 'M9T\\n', 'M1V\\n', 'M2V\\n', 'M3V\\n', 'M4V\\n', 'M5V\\n', 'M6V\\n', 'M7V\\n', 'M8V\\n', 'M9V\\n', 'M1W\\n', 'M2W\\n', 'M3W\\n', 'M4W\\n', 'M5W\\n', 'M6W\\n', 'M7W\\n', 'M8W\\n', 'M9W\\n', 'M1X\\n', 'M2X\\n', 'M3X\\n', 'M4X\\n', 'M5X\\n', 'M6X\\n', 'M7X\\n', 'M8X\\n', 'M9X\\n', 'M1Y\\n', 'M2Y\\n', 'M3Y\\n', 'M4Y\\n', 'M5Y\\n', 'M6Y\\n', 'M7Y\\n', 'M8Y\\n', 'M9Y\\n', 'M1Z\\n', 'M2Z\\n', 'M3Z\\n', 'M4Z\\n', 'M5Z\\n', 'M6Z\\n', 'M7Z\\n', 'M8Z\\n', 'M9Z\\n']\n['Not assigned\\n', 'Not assigned\\n', 'North York\\n', 'North York\\n', 'Downtown Toronto\\n', 'North York\\n', 'Downtown Toronto\\n', 'Not assigned\\n', 'Etobicoke\\n', 'Scarborough\\n', 'Not assigned\\n', 'North York\\n', 'East York\\n', 'Downtown Toronto\\n', 'North York\\n', 'Not assigned\\n', 'Not assigned\\n', 'Etobicoke\\n', 'Scarborough\\n', 'Not assigned\\n', 'North York\\n', 'East York\\n', 'Downtown Toronto\\n', 'York\\n', 'Not assigned\\n', 'Not assigned\\n', 'Etobicoke\\n', 'Scarborough\\n', 'Not assigned\\n', 'Not assigned\\n', 'East Toronto\\n', 'Downtown Toronto\\n', 'York\\n', 'Not assigned\\n', 'Not assigned\\n', 'Not assigned\\n', 'Scarborough\\n', 'Not assigned\\n', 'Not assigned\\n', 'East York\\n', 'Downtown Toronto\\n', 'Downtown Toronto\\n', 'Not assigned\\n', 'Not assigned\\n', 'Not assigned\\n', 'Scarborough\\n', 'North York\\n', 'North York\\n', 'East York\\n', 'Downtown Toronto\\n', 'West Toronto\\n', 'Not assigned\\n', 'Not assigned\\n', 'Not assigned\\n', 'Scarborough\\n', 'North York\\n', 'North York\\n', 'East York\\n', 'Downtown Toronto\\n', 'West Toronto\\n', 'Not assigned\\n', 'Not assigned\\n', 'Not assigned\\n', 'Scarborough\\n', 'North York\\n', 'North York\\n', 'East Toronto\\n', 'Downtown Toronto\\n', 'West Toronto\\n', 'Not assigned\\n', 'Not assigned\\n', 'Not assigned\\n', 'Scarborough\\n', 'North York\\n', 'North York\\n', 'East Toronto\\n', 'Downtown Toronto\\n', 'North York\\n', 'Not assigned\\n', 'Not assigned\\n', 'North York\\n', 'Scarborough\\n', 'North York\\n', 'North York\\n', 'East Toronto\\n', 'North York\\n', 'York\\n', 'Not assigned\\n', 'Not assigned\\n', 'North York\\n', 'Scarborough\\n', 'North York\\n', 'North York\\n', 'Central Toronto\\n', 'Central Toronto\\n', 'York\\n', 'Not assigned\\n', 'Not assigned\\n', 'York\\n', 'Scarborough\\n', 'North York\\n', 'Not assigned\\n', 'Central Toronto\\n', 'Central Toronto\\n', 'West Toronto\\n', 'Not assigned\\n', 'Not assigned\\n', 'Etobicoke\\n', 'Scarborough\\n', 'North York\\n', 'Not assigned\\n', 'Central Toronto\\n', 'Central Toronto\\n', 'West Toronto\\n', 'Mississauga\\n', 'Not assigned\\n', 'Etobicoke\\n', 'Scarborough\\n', 'Not assigned\\n', 'Not assigned\\n', 'Central Toronto\\n', 'Downtown Toronto\\n', 'West Toronto\\n', 'Not assigned\\n', 'Not assigned\\n', 'Not assigned\\n', 'Scarborough\\n', 'Not assigned\\n', 'Not assigned\\n', 'Central Toronto\\n', 'Downtown Toronto\\n', 'Not assigned\\n', 'Not assigned\\n', 'Not assigned\\n', 'Not assigned\\n', 'Scarborough\\n', 'Not assigned\\n', 'Not assigned\\n', 'Central Toronto\\n', 'Downtown Toronto\\n', 'Not assigned\\n', 'Not assigned\\n', 'Etobicoke\\n', 'Etobicoke\\n', 'Scarborough\\n', 'Not assigned\\n', 'Not assigned\\n', 'Downtown Toronto\\n', 'Downtown Toronto\\n', 'Not assigned\\n', 'Not assigned\\n', 'Etobicoke\\n', 'Etobicoke\\n', 'Scarborough\\n', 'Not assigned\\n', 'Not assigned\\n', 'Downtown Toronto\\n', 'Downtown Toronto\\n', 'Not assigned\\n', 'Not assigned\\n', 'Etobicoke\\n', 'Not assigned\\n', 'Not assigned\\n', 'Not assigned\\n', 'Not assigned\\n', 'Downtown Toronto\\n', 'Not assigned\\n', 'Not assigned\\n', 'East Toronto\\n', 'Etobicoke\\n', 'Not assigned\\n', 'Not assigned\\n', 'Not assigned\\n', 'Not assigned\\n', 'Not assigned\\n', 'Not assigned\\n', 'Not assigned\\n', 'Not assigned\\n', 'Etobicoke\\n', 'Not assigned\\n']\n['Not assigned\\n', 'Not assigned\\n', 'Parkwoods\\n', 'Victoria Village\\n', 'Regent Park, Harbourfront\\n', 'Lawrence Manor, Lawrence Heights\\n', \"Queen's Park, Ontario Provincial Government\\n\", 'Not assigned\\n', 'Islington Avenue, Humber Valley Village\\n', 'Malvern, Rouge\\n', 'Not assigned\\n', 'Don Mills\\n', 'Parkview Hill, Woodbine Gardens\\n', 'Garden District, Ryerson\\n', 'Glencairn\\n', 'Not assigned\\n', 'Not assigned\\n', 'West Deane Park, Princess Gardens, Martin Grove, Islington, Cloverdale\\n', 'Rouge Hill, Port Union, Highland Creek\\n', 'Not assigned\\n', 'Don Mills\\n', 'Woodbine Heights\\n', 'St. James Town\\n', 'Humewood-Cedarvale\\n', 'Not assigned\\n', 'Not assigned\\n', 'Eringate, Bloordale Gardens, Old Burnhamthorpe, Markland Wood\\n', 'Guildwood, Morningside, West Hill\\n', 'Not assigned\\n', 'Not assigned\\n', 'The Beaches\\n', 'Berczy Park\\n', 'Caledonia-Fairbanks\\n', 'Not assigned\\n', 'Not assigned\\n', 'Not assigned\\n', 'Woburn\\n', 'Not assigned\\n', 'Not assigned\\n', 'Leaside\\n', 'Central Bay Street\\n', 'Christie\\n', 'Not assigned\\n', 'Not assigned\\n', 'Not assigned\\n', 'Cedarbrae\\n', 'Hillcrest Village\\n', 'Bathurst Manor, Wilson Heights, Downsview North\\n', 'Thorncliffe Park\\n', 'Richmond, Adelaide, King\\n', 'Dufferin, Dovercourt Village\\n', 'Not assigned\\n', 'Not assigned\\n', 'Not assigned\\n', 'Scarborough Village\\n', 'Fairview, Henry Farm, Oriole\\n', 'Northwood Park, York University\\n', 'East Toronto, Broadview North (Old East York)\\n', 'Harbourfront East, Union Station, Toronto Islands\\n', 'Little Portugal, Trinity\\n', 'Not assigned\\n', 'Not assigned\\n', 'Not assigned\\n', 'Kennedy Park, Ionview, East Birchmount Park\\n', 'Bayview Village\\n', 'Downsview\\n', 'The Danforth West, Riverdale\\n', 'Toronto Dominion Centre, Design Exchange\\n', 'Brockton, Parkdale Village, Exhibition Place\\n', 'Not assigned\\n', 'Not assigned\\n', 'Not assigned\\n', 'Golden Mile, Clairlea, Oakridge\\n', 'York Mills, Silver Hills\\n', 'Downsview\\n', 'India Bazaar, The Beaches West\\n', 'Commerce Court, Victoria Hotel\\n', 'North Park, Maple Leaf Park, Upwood Park\\n', 'Not assigned\\n', 'Not assigned\\n', 'Humber Summit\\n', 'Cliffside, Cliffcrest, Scarborough Village West\\n', 'Willowdale, Newtonbrook\\n', 'Downsview\\n', 'Studio District\\n', 'Bedford Park, Lawrence Manor East\\n', 'Del Ray, Mount Dennis, Keelsdale and Silverthorn\\n', 'Not assigned\\n', 'Not assigned\\n', 'Humberlea, Emery\\n', 'Birch Cliff, Cliffside West\\n', 'Willowdale, Willowdale East\\n', 'Downsview\\n', 'Lawrence Park\\n', 'Roselawn\\n', 'Runnymede, The Junction North\\n', 'Not assigned\\n', 'Not assigned\\n', 'Weston\\n', 'Dorset Park, Wexford Heights, Scarborough Town Centre\\n', 'York Mills West\\n', 'Not assigned\\n', 'Davisville North\\n', 'Forest Hill North & West, Forest Hill Road Park\\n', 'High Park, The Junction South\\n', 'Not assigned\\n', 'Not assigned\\n', 'Westmount\\n', 'Wexford, Maryvale\\n', 'Willowdale, Willowdale West\\n', 'Not assigned\\n', 'North Toronto West,  Lawrence Park\\n', 'The Annex, North Midtown, Yorkville\\n', 'Parkdale, Roncesvalles\\n', 'Canada Post Gateway Processing Centre\\n', 'Not assigned\\n', 'Kingsview Village, St. Phillips, Martin Grove Gardens, Richview Gardens\\n', 'Agincourt\\n', 'Not assigned\\n', 'Not assigned\\n', 'Davisville\\n', 'University of Toronto, Harbord\\n', 'Runnymede, Swansea\\n', 'Not assigned\\n', 'Not assigned\\n', 'Not assigned\\n', \"Clarks Corners, Tam O'Shanter, Sullivan\\n\", 'Not assigned\\n', 'Not assigned\\n', 'Moore Park, Summerhill East\\n', 'Kensington Market, Chinatown, Grange Park\\n', 'Not assigned\\n', 'Not assigned\\n', 'Not assigned\\n', 'Not assigned\\n', \"Milliken, Agincourt North, Steeles East, L'Amoreaux East\\n\", 'Not assigned\\n', 'Not assigned\\n', 'Summerhill West, Rathnelly, South Hill, Forest Hill SE, Deer Park\\n', 'CN Tower, King and Spadina, Railway Lands, Harbourfront West, Bathurst Quay, South Niagara, Island airport\\n', 'Not assigned\\n', 'Not assigned\\n', 'New Toronto, Mimico South, Humber Bay Shores\\n', 'South Steeles, Silverstone, Humbergate, Jamestown, Mount Olive, Beaumond Heights, Thistletown, Albion Gardens\\n', \"Steeles West, L'Amoreaux West\\n\", 'Not assigned\\n', 'Not assigned\\n', 'Rosedale\\n', 'Stn A PO Boxes\\n', 'Not assigned\\n', 'Not assigned\\n', 'Alderwood, Long Branch\\n', 'Northwest, West Humber - Clairville\\n', 'Upper Rouge\\n', 'Not assigned\\n', 'Not assigned\\n', 'St. James Town, Cabbagetown\\n', 'First Canadian Place, Underground city\\n', 'Not assigned\\n', 'Not assigned\\n', 'The Kingsway, Montgomery Road, Old Mill North\\n', 'Not assigned\\n', 'Not assigned\\n', 'Not assigned\\n', 'Not assigned\\n', 'Church and Wellesley\\n', 'Not assigned\\n', 'Not assigned\\n', 'Business reply mail Processing Centre, South Central Letter Processing Plant Toronto\\n', \"Old Mill South, King's Mill Park, Sunnylea, Humber Bay, Mimico NE, The Queensway East, Royal York South East, Kingsway Park South East\\n\", 'Not assigned\\n', 'Not assigned\\n', 'Not assigned\\n', 'Not assigned\\n', 'Not assigned\\n', 'Not assigned\\n', 'Not assigned\\n', 'Not assigned\\n', 'Mimico NW, The Queensway West, South of Bloor, Kingsway Park South West, Royal York South West\\n', 'Not assigned\\n']\n"
    }
   ],
   "source": [
    "A = []\n",
    "B = []\n",
    "C = []\n",
    "\n",
    "for row in table.findAll('tr'):\n",
    "    cells=row.findAll('td')\n",
    "    if len(cells)==3:\n",
    "        A.append(cells[0].find(text=True))\n",
    "        B.append(cells[1].find(text=True))\n",
    "        C.append(cells[2].find(text=True))\n",
    "print(A)\n",
    "print(B)\n",
    "print(C)"
   ]
  },
  {
   "cell_type": "code",
   "execution_count": 5,
   "metadata": {
    "tags": []
   },
   "outputs": [
    {
     "output_type": "stream",
     "name": "stdout",
     "text": "['M1A', 'M2A', 'M3A', 'M4A', 'M5A', 'M6A', 'M7A', 'M8A', 'M9A', 'M1B', 'M2B', 'M3B', 'M4B', 'M5B', 'M6B', 'M7B', 'M8B', 'M9B', 'M1C', 'M2C', 'M3C', 'M4C', 'M5C', 'M6C', 'M7C', 'M8C', 'M9C', 'M1E', 'M2E', 'M3E', 'M4E', 'M5E', 'M6E', 'M7E', 'M8E', 'M9E', 'M1G', 'M2G', 'M3G', 'M4G', 'M5G', 'M6G', 'M7G', 'M8G', 'M9G', 'M1H', 'M2H', 'M3H', 'M4H', 'M5H', 'M6H', 'M7H', 'M8H', 'M9H', 'M1J', 'M2J', 'M3J', 'M4J', 'M5J', 'M6J', 'M7J', 'M8J', 'M9J', 'M1K', 'M2K', 'M3K', 'M4K', 'M5K', 'M6K', 'M7K', 'M8K', 'M9K', 'M1L', 'M2L', 'M3L', 'M4L', 'M5L', 'M6L', 'M7L', 'M8L', 'M9L', 'M1M', 'M2M', 'M3M', 'M4M', 'M5M', 'M6M', 'M7M', 'M8M', 'M9M', 'M1N', 'M2N', 'M3N', 'M4N', 'M5N', 'M6N', 'M7N', 'M8N', 'M9N', 'M1P', 'M2P', 'M3P', 'M4P', 'M5P', 'M6P', 'M7P', 'M8P', 'M9P', 'M1R', 'M2R', 'M3R', 'M4R', 'M5R', 'M6R', 'M7R', 'M8R', 'M9R', 'M1S', 'M2S', 'M3S', 'M4S', 'M5S', 'M6S', 'M7S', 'M8S', 'M9S', 'M1T', 'M2T', 'M3T', 'M4T', 'M5T', 'M6T', 'M7T', 'M8T', 'M9T', 'M1V', 'M2V', 'M3V', 'M4V', 'M5V', 'M6V', 'M7V', 'M8V', 'M9V', 'M1W', 'M2W', 'M3W', 'M4W', 'M5W', 'M6W', 'M7W', 'M8W', 'M9W', 'M1X', 'M2X', 'M3X', 'M4X', 'M5X', 'M6X', 'M7X', 'M8X', 'M9X', 'M1Y', 'M2Y', 'M3Y', 'M4Y', 'M5Y', 'M6Y', 'M7Y', 'M8Y', 'M9Y', 'M1Z', 'M2Z', 'M3Z', 'M4Z', 'M5Z', 'M6Z', 'M7Z', 'M8Z', 'M9Z']\n"
    }
   ],
   "source": [
    "for i in range(len(A)):\n",
    "    A[i] = A[i].replace('\\n','')\n",
    "for i in range(len(B)):\n",
    "    B[i] = B[i].replace('\\n','')\n",
    "for i in range(len(C)):\n",
    "    C[i] = C[i].replace('\\n','')\n",
    "print(A)"
   ]
  },
  {
   "cell_type": "code",
   "execution_count": 6,
   "metadata": {},
   "outputs": [
    {
     "output_type": "execute_result",
     "data": {
      "text/plain": "  Postal Code           Borough              Neighbourhood\n0         M1A      Not assigned               Not assigned\n1         M2A      Not assigned               Not assigned\n2         M3A        North York                  Parkwoods\n3         M4A        North York           Victoria Village\n4         M5A  Downtown Toronto  Regent Park, Harbourfront",
      "text/html": "<div>\n<style scoped>\n    .dataframe tbody tr th:only-of-type {\n        vertical-align: middle;\n    }\n\n    .dataframe tbody tr th {\n        vertical-align: top;\n    }\n\n    .dataframe thead th {\n        text-align: right;\n    }\n</style>\n<table border=\"1\" class=\"dataframe\">\n  <thead>\n    <tr style=\"text-align: right;\">\n      <th></th>\n      <th>Postal Code</th>\n      <th>Borough</th>\n      <th>Neighbourhood</th>\n    </tr>\n  </thead>\n  <tbody>\n    <tr>\n      <th>0</th>\n      <td>M1A</td>\n      <td>Not assigned</td>\n      <td>Not assigned</td>\n    </tr>\n    <tr>\n      <th>1</th>\n      <td>M2A</td>\n      <td>Not assigned</td>\n      <td>Not assigned</td>\n    </tr>\n    <tr>\n      <th>2</th>\n      <td>M3A</td>\n      <td>North York</td>\n      <td>Parkwoods</td>\n    </tr>\n    <tr>\n      <th>3</th>\n      <td>M4A</td>\n      <td>North York</td>\n      <td>Victoria Village</td>\n    </tr>\n    <tr>\n      <th>4</th>\n      <td>M5A</td>\n      <td>Downtown Toronto</td>\n      <td>Regent Park, Harbourfront</td>\n    </tr>\n  </tbody>\n</table>\n</div>"
     },
     "metadata": {},
     "execution_count": 6
    }
   ],
   "source": [
    "X = [A, B, C]\n",
    "df = pd.DataFrame(data = A, columns = ['Postal Code'])\n",
    "df['Borough'] = B\n",
    "df['Neighbourhood'] = C\n",
    "df.head()"
   ]
  },
  {
   "cell_type": "code",
   "execution_count": 7,
   "metadata": {},
   "outputs": [
    {
     "output_type": "execute_result",
     "data": {
      "text/plain": "    Postal Code           Borough  \\\n2           M3A        North York   \n3           M4A        North York   \n4           M5A  Downtown Toronto   \n5           M6A        North York   \n6           M7A  Downtown Toronto   \n..          ...               ...   \n160         M8X         Etobicoke   \n165         M4Y  Downtown Toronto   \n168         M7Y      East Toronto   \n169         M8Y         Etobicoke   \n178         M8Z         Etobicoke   \n\n                                         Neighbourhood  \n2                                            Parkwoods  \n3                                     Victoria Village  \n4                            Regent Park, Harbourfront  \n5                     Lawrence Manor, Lawrence Heights  \n6          Queen's Park, Ontario Provincial Government  \n..                                                 ...  \n160      The Kingsway, Montgomery Road, Old Mill North  \n165                               Church and Wellesley  \n168  Business reply mail Processing Centre, South C...  \n169  Old Mill South, King's Mill Park, Sunnylea, Hu...  \n178  Mimico NW, The Queensway West, South of Bloor,...  \n\n[103 rows x 3 columns]",
      "text/html": "<div>\n<style scoped>\n    .dataframe tbody tr th:only-of-type {\n        vertical-align: middle;\n    }\n\n    .dataframe tbody tr th {\n        vertical-align: top;\n    }\n\n    .dataframe thead th {\n        text-align: right;\n    }\n</style>\n<table border=\"1\" class=\"dataframe\">\n  <thead>\n    <tr style=\"text-align: right;\">\n      <th></th>\n      <th>Postal Code</th>\n      <th>Borough</th>\n      <th>Neighbourhood</th>\n    </tr>\n  </thead>\n  <tbody>\n    <tr>\n      <th>2</th>\n      <td>M3A</td>\n      <td>North York</td>\n      <td>Parkwoods</td>\n    </tr>\n    <tr>\n      <th>3</th>\n      <td>M4A</td>\n      <td>North York</td>\n      <td>Victoria Village</td>\n    </tr>\n    <tr>\n      <th>4</th>\n      <td>M5A</td>\n      <td>Downtown Toronto</td>\n      <td>Regent Park, Harbourfront</td>\n    </tr>\n    <tr>\n      <th>5</th>\n      <td>M6A</td>\n      <td>North York</td>\n      <td>Lawrence Manor, Lawrence Heights</td>\n    </tr>\n    <tr>\n      <th>6</th>\n      <td>M7A</td>\n      <td>Downtown Toronto</td>\n      <td>Queen's Park, Ontario Provincial Government</td>\n    </tr>\n    <tr>\n      <th>...</th>\n      <td>...</td>\n      <td>...</td>\n      <td>...</td>\n    </tr>\n    <tr>\n      <th>160</th>\n      <td>M8X</td>\n      <td>Etobicoke</td>\n      <td>The Kingsway, Montgomery Road, Old Mill North</td>\n    </tr>\n    <tr>\n      <th>165</th>\n      <td>M4Y</td>\n      <td>Downtown Toronto</td>\n      <td>Church and Wellesley</td>\n    </tr>\n    <tr>\n      <th>168</th>\n      <td>M7Y</td>\n      <td>East Toronto</td>\n      <td>Business reply mail Processing Centre, South C...</td>\n    </tr>\n    <tr>\n      <th>169</th>\n      <td>M8Y</td>\n      <td>Etobicoke</td>\n      <td>Old Mill South, King's Mill Park, Sunnylea, Hu...</td>\n    </tr>\n    <tr>\n      <th>178</th>\n      <td>M8Z</td>\n      <td>Etobicoke</td>\n      <td>Mimico NW, The Queensway West, South of Bloor,...</td>\n    </tr>\n  </tbody>\n</table>\n<p>103 rows × 3 columns</p>\n</div>"
     },
     "metadata": {},
     "execution_count": 7
    }
   ],
   "source": [
    "indices = df[df['Borough'] == 'Not assigned'].index\n",
    "df = df.drop(indices)\n",
    "df"
   ]
  },
  {
   "cell_type": "code",
   "execution_count": 8,
   "metadata": {},
   "outputs": [
    {
     "output_type": "execute_result",
     "data": {
      "text/plain": "  Postal Code      Borough                           Neighbourhood\n0         M1B  Scarborough                          Malvern, Rouge\n1         M1C  Scarborough  Rouge Hill, Port Union, Highland Creek\n2         M1E  Scarborough       Guildwood, Morningside, West Hill\n3         M1G  Scarborough                                  Woburn\n4         M1H  Scarborough                               Cedarbrae",
      "text/html": "<div>\n<style scoped>\n    .dataframe tbody tr th:only-of-type {\n        vertical-align: middle;\n    }\n\n    .dataframe tbody tr th {\n        vertical-align: top;\n    }\n\n    .dataframe thead th {\n        text-align: right;\n    }\n</style>\n<table border=\"1\" class=\"dataframe\">\n  <thead>\n    <tr style=\"text-align: right;\">\n      <th></th>\n      <th>Postal Code</th>\n      <th>Borough</th>\n      <th>Neighbourhood</th>\n    </tr>\n  </thead>\n  <tbody>\n    <tr>\n      <th>0</th>\n      <td>M1B</td>\n      <td>Scarborough</td>\n      <td>Malvern, Rouge</td>\n    </tr>\n    <tr>\n      <th>1</th>\n      <td>M1C</td>\n      <td>Scarborough</td>\n      <td>Rouge Hill, Port Union, Highland Creek</td>\n    </tr>\n    <tr>\n      <th>2</th>\n      <td>M1E</td>\n      <td>Scarborough</td>\n      <td>Guildwood, Morningside, West Hill</td>\n    </tr>\n    <tr>\n      <th>3</th>\n      <td>M1G</td>\n      <td>Scarborough</td>\n      <td>Woburn</td>\n    </tr>\n    <tr>\n      <th>4</th>\n      <td>M1H</td>\n      <td>Scarborough</td>\n      <td>Cedarbrae</td>\n    </tr>\n  </tbody>\n</table>\n</div>"
     },
     "metadata": {},
     "execution_count": 8
    }
   ],
   "source": [
    "df = df.groupby(['Postal Code', 'Borough'], as_index = False).agg(lambda x: ','.join(x))\n",
    "df.head()"
   ]
  },
  {
   "cell_type": "code",
   "execution_count": 9,
   "metadata": {},
   "outputs": [
    {
     "output_type": "execute_result",
     "data": {
      "text/plain": "  Postal Code      Borough                           Neighbourhood\n0         M1B  Scarborough                          Malvern, Rouge\n1         M1C  Scarborough  Rouge Hill, Port Union, Highland Creek\n2         M1E  Scarborough       Guildwood, Morningside, West Hill\n3         M1G  Scarborough                                  Woburn\n4         M1H  Scarborough                               Cedarbrae",
      "text/html": "<div>\n<style scoped>\n    .dataframe tbody tr th:only-of-type {\n        vertical-align: middle;\n    }\n\n    .dataframe tbody tr th {\n        vertical-align: top;\n    }\n\n    .dataframe thead th {\n        text-align: right;\n    }\n</style>\n<table border=\"1\" class=\"dataframe\">\n  <thead>\n    <tr style=\"text-align: right;\">\n      <th></th>\n      <th>Postal Code</th>\n      <th>Borough</th>\n      <th>Neighbourhood</th>\n    </tr>\n  </thead>\n  <tbody>\n    <tr>\n      <th>0</th>\n      <td>M1B</td>\n      <td>Scarborough</td>\n      <td>Malvern, Rouge</td>\n    </tr>\n    <tr>\n      <th>1</th>\n      <td>M1C</td>\n      <td>Scarborough</td>\n      <td>Rouge Hill, Port Union, Highland Creek</td>\n    </tr>\n    <tr>\n      <th>2</th>\n      <td>M1E</td>\n      <td>Scarborough</td>\n      <td>Guildwood, Morningside, West Hill</td>\n    </tr>\n    <tr>\n      <th>3</th>\n      <td>M1G</td>\n      <td>Scarborough</td>\n      <td>Woburn</td>\n    </tr>\n    <tr>\n      <th>4</th>\n      <td>M1H</td>\n      <td>Scarborough</td>\n      <td>Cedarbrae</td>\n    </tr>\n  </tbody>\n</table>\n</div>"
     },
     "metadata": {},
     "execution_count": 9
    }
   ],
   "source": [
    "rows = df['Neighbourhood'] == 'Not assigned'\n",
    "df.loc[rows, 'Neighbourhood'] = df.loc[rows,'Borough']\n",
    "df.head()"
   ]
  },
  {
   "cell_type": "code",
   "execution_count": 10,
   "metadata": {},
   "outputs": [
    {
     "output_type": "execute_result",
     "data": {
      "text/plain": "(103, 3)"
     },
     "metadata": {},
     "execution_count": 10
    }
   ],
   "source": [
    "df.shape"
   ]
  },
  {
   "cell_type": "markdown",
   "metadata": {},
   "source": [
    "## Appending Lat and Long to the DataFrame"
   ]
  },
  {
   "cell_type": "code",
   "execution_count": 11,
   "metadata": {},
   "outputs": [
    {
     "output_type": "execute_result",
     "data": {
      "text/plain": "  Postal Code   Latitude  Longitude\n0         M1B  43.806686 -79.194353\n1         M1C  43.784535 -79.160497\n2         M1E  43.763573 -79.188711\n3         M1G  43.770992 -79.216917\n4         M1H  43.773136 -79.239476",
      "text/html": "<div>\n<style scoped>\n    .dataframe tbody tr th:only-of-type {\n        vertical-align: middle;\n    }\n\n    .dataframe tbody tr th {\n        vertical-align: top;\n    }\n\n    .dataframe thead th {\n        text-align: right;\n    }\n</style>\n<table border=\"1\" class=\"dataframe\">\n  <thead>\n    <tr style=\"text-align: right;\">\n      <th></th>\n      <th>Postal Code</th>\n      <th>Latitude</th>\n      <th>Longitude</th>\n    </tr>\n  </thead>\n  <tbody>\n    <tr>\n      <th>0</th>\n      <td>M1B</td>\n      <td>43.806686</td>\n      <td>-79.194353</td>\n    </tr>\n    <tr>\n      <th>1</th>\n      <td>M1C</td>\n      <td>43.784535</td>\n      <td>-79.160497</td>\n    </tr>\n    <tr>\n      <th>2</th>\n      <td>M1E</td>\n      <td>43.763573</td>\n      <td>-79.188711</td>\n    </tr>\n    <tr>\n      <th>3</th>\n      <td>M1G</td>\n      <td>43.770992</td>\n      <td>-79.216917</td>\n    </tr>\n    <tr>\n      <th>4</th>\n      <td>M1H</td>\n      <td>43.773136</td>\n      <td>-79.239476</td>\n    </tr>\n  </tbody>\n</table>\n</div>"
     },
     "metadata": {},
     "execution_count": 11
    }
   ],
   "source": [
    "latlong = pd.read_csv('./Datasets/Geospatial_Coordinates.csv')\n",
    "latlong.head()"
   ]
  },
  {
   "cell_type": "code",
   "execution_count": 12,
   "metadata": {},
   "outputs": [
    {
     "output_type": "execute_result",
     "data": {
      "text/plain": "  Postal Code      Borough                           Neighbourhood   Latitude  \\\n0         M1B  Scarborough                          Malvern, Rouge  43.806686   \n1         M1C  Scarborough  Rouge Hill, Port Union, Highland Creek  43.784535   \n2         M1E  Scarborough       Guildwood, Morningside, West Hill  43.763573   \n3         M1G  Scarborough                                  Woburn  43.770992   \n4         M1H  Scarborough                               Cedarbrae  43.773136   \n\n   Longitude  \n0 -79.194353  \n1 -79.160497  \n2 -79.188711  \n3 -79.216917  \n4 -79.239476  ",
      "text/html": "<div>\n<style scoped>\n    .dataframe tbody tr th:only-of-type {\n        vertical-align: middle;\n    }\n\n    .dataframe tbody tr th {\n        vertical-align: top;\n    }\n\n    .dataframe thead th {\n        text-align: right;\n    }\n</style>\n<table border=\"1\" class=\"dataframe\">\n  <thead>\n    <tr style=\"text-align: right;\">\n      <th></th>\n      <th>Postal Code</th>\n      <th>Borough</th>\n      <th>Neighbourhood</th>\n      <th>Latitude</th>\n      <th>Longitude</th>\n    </tr>\n  </thead>\n  <tbody>\n    <tr>\n      <th>0</th>\n      <td>M1B</td>\n      <td>Scarborough</td>\n      <td>Malvern, Rouge</td>\n      <td>43.806686</td>\n      <td>-79.194353</td>\n    </tr>\n    <tr>\n      <th>1</th>\n      <td>M1C</td>\n      <td>Scarborough</td>\n      <td>Rouge Hill, Port Union, Highland Creek</td>\n      <td>43.784535</td>\n      <td>-79.160497</td>\n    </tr>\n    <tr>\n      <th>2</th>\n      <td>M1E</td>\n      <td>Scarborough</td>\n      <td>Guildwood, Morningside, West Hill</td>\n      <td>43.763573</td>\n      <td>-79.188711</td>\n    </tr>\n    <tr>\n      <th>3</th>\n      <td>M1G</td>\n      <td>Scarborough</td>\n      <td>Woburn</td>\n      <td>43.770992</td>\n      <td>-79.216917</td>\n    </tr>\n    <tr>\n      <th>4</th>\n      <td>M1H</td>\n      <td>Scarborough</td>\n      <td>Cedarbrae</td>\n      <td>43.773136</td>\n      <td>-79.239476</td>\n    </tr>\n  </tbody>\n</table>\n</div>"
     },
     "metadata": {},
     "execution_count": 12
    }
   ],
   "source": [
    "dff = pd.merge(df, latlong, on = 'Postal Code')\n",
    "dff.head()"
   ]
  },
  {
   "cell_type": "code",
   "execution_count": null,
   "metadata": {},
   "outputs": [],
   "source": []
  }
 ],
 "metadata": {
  "language_info": {
   "codemirror_mode": {
    "name": "ipython",
    "version": 3
   },
   "file_extension": ".py",
   "mimetype": "text/x-python",
   "name": "python",
   "nbconvert_exporter": "python",
   "pygments_lexer": "ipython3",
   "version": "3.8.2-final"
  },
  "orig_nbformat": 2,
  "kernelspec": {
   "name": "python38264bitcharybdiscondaaa0c1dde90874a3f9787665aa6d4592d",
   "display_name": "Python 3.8.2 64-bit ('Charybdis': conda)"
  }
 },
 "nbformat": 4,
 "nbformat_minor": 2
}